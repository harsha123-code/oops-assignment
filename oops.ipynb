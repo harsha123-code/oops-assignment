{
  "nbformat": 4,
  "nbformat_minor": 0,
  "metadata": {
    "colab": {
      "provenance": []
    },
    "kernelspec": {
      "name": "python3",
      "display_name": "Python 3"
    },
    "language_info": {
      "name": "python"
    }
  },
  "cells": [
    {
      "cell_type": "markdown",
      "source": [
        "Python OOPs Questions"
      ],
      "metadata": {
        "id": "2AQ2B4ziYzG6"
      }
    },
    {
      "cell_type": "markdown",
      "source": [
        "1.What is Object-Oriented Programming (OOP)\n",
        "\n",
        "\n",
        "->oops is thw way of writting code in which we classes and object(is an instant of class) in an program\n",
        "\n",
        "*feathers\n",
        "\n",
        "class=blueprint of objects\n",
        "\n",
        "object =an instance of class\n",
        "\n",
        "encapsulation=hinding internal details showing only necessary info\n",
        "\n",
        "inheritance =class using the methods of anther class\n",
        "\n",
        "polymorphism =if class contain features of many class\n",
        "\n",
        "abstraction =showing only essential things hiding complex ones"
      ],
      "metadata": {
        "id": "P2T1MwuDYzSm"
      }
    },
    {
      "cell_type": "markdown",
      "source": [
        "2. What is a class in OOP\n",
        "\n",
        "\n",
        "-> class is an user defined data type that contain data and methods\n",
        "\n",
        "\n",
        "->class is an blueprint or templete of program where we write methods and properties which is used to create object"
      ],
      "metadata": {
        "id": "bmR2TMJZYzbI"
      }
    },
    {
      "cell_type": "markdown",
      "source": [
        "3. What is an object in OOP\n",
        "\n",
        "-> object is an instance of an class which used data and methos of class\n",
        "\n",
        "class dog:  # class\n",
        "\n",
        "def __init__(self,name):\n",
        "\n",
        "self.name=name\n",
        "\n",
        "\n",
        "\n",
        "def pri(self):\n",
        "\n",
        "  print(f\"this is an ,{self.name}\")\n",
        "\n",
        "my_dog=dog(\"pug\") #object\n",
        "\n",
        "my_dog.pri()\n"
      ],
      "metadata": {
        "id": "eU41NCrZYzfB"
      }
    },
    {
      "cell_type": "markdown",
      "source": [
        "4. What is the difference between abstraction and encapsulation\n",
        "\n",
        "abstraction\n",
        "\n",
        "->hide unnecessary detail and show only essential features in python we used this by abc module\n",
        "\n",
        "ex from abc import ABC,abstractmethod\n",
        "\n",
        "\n",
        "class Animal(ABC):\n",
        "\n",
        "@abstractmethod\n",
        "\n",
        "def sound(Self):\n",
        "\n",
        "pass\n",
        "\n",
        "encapsulation\n",
        "\n",
        "->hides the internal state of an object and protect it  from unauthorized access\n",
        "\n",
        "class bankdetails:\n",
        "\n",
        "def __init__(Self):\n",
        "\n",
        "self.__balance=0\n",
        "\n",
        "def deposite(self,amount):\n",
        "\n",
        "self.__balance+=amount\n",
        "\n",
        "def get_balance(self):\n",
        "\n",
        "return self.__balance\n",
        "\n",
        "\n",
        "\n"
      ],
      "metadata": {
        "id": "QyJEhZpSYzjv"
      }
    },
    {
      "cell_type": "markdown",
      "source": [
        " What are dunder methods in Python\n",
        "\n",
        " ->this are methods which start and end with double underscore this is also called magic or special method they let use define how user object should work\n",
        "\n",
        " ex __init__\n",
        " __str__,__eq__"
      ],
      "metadata": {
        "id": "Tgk1f_ekYznw"
      }
    },
    {
      "cell_type": "markdown",
      "source": [
        " Explain the concept of inheritance in OOP\n",
        "\n",
        " -> inheritance is the mechanism where a new class inherit the data and method of exiting class  this used in code reusability,we can add the features in existing code\n",
        "\n",
        " types\n",
        "\n",
        " 1.single\n",
        "\n",
        " 2.multiple\n",
        "\n",
        " 3.multilevel\n",
        "\n",
        " 4.hierachical\n",
        "\n",
        " 5.derived\n"
      ],
      "metadata": {
        "id": "X53JHV6vYzsE"
      }
    },
    {
      "cell_type": "markdown",
      "source": [
        " What is polymorphism in OOP\n",
        "\n",
        "Polymorphism, meaning \"many forms,\" is a core principle in object-oriented programming that allows objects of different classes to be treated uniformly through a common interface. It enables you to define a common method in a base class (or simply agree on a method name) and have derived classes (or different classes) provide their own specific implementations of that method. When you call this method on an object, the specific implementation that corresponds to the object's actual type is executed at runtime, allowing for flexible and extensible code that can work with various object types through the same method call. The most common way to achieve this in Python is through method overriding."
      ],
      "metadata": {
        "id": "2BmVQtXXYzwp"
      }
    },
    {
      "cell_type": "markdown",
      "source": [
        "9 How is encapsulation achieved in Python\n",
        "\n",
        "->encapsulation means to hide the important datato show only usefully imformaton to user to hide an data we do private attributes by doing '--'\n",
        "before the members of data we private then and if somebody want to do access them the use getter and setter methods in Python, using __ doesn't make the attributes truly private like in some other languages"
      ],
      "metadata": {
        "id": "pzVEGiPfYzy3"
      }
    },
    {
      "cell_type": "markdown",
      "source": [
        "10 What is a constructor in Python\n",
        "\n",
        "-> constructor is special method which is triggered when the object is created,we do not need to explicitly call it like other function the __init__ represented the constructor in python"
      ],
      "metadata": {
        "id": "9jAsv6gJYz3N"
      }
    },
    {
      "cell_type": "markdown",
      "source": [
        "11 What are class and static methods in Python\n",
        "\n",
        "->class method having first argument as class it can directly access all class attributes we used @classmethod as decorator meanwhile the static method are regular method we declared inside the class we can not perform class level operation in this we @staticmethod decorator of this"
      ],
      "metadata": {
        "id": "X0RrPxnXYz8B"
      }
    },
    {
      "cell_type": "markdown",
      "source": [
        " 12 What is method overloading in Python\n",
        "\n",
        "\n",
        " >method overloading = when a class has multiple methods with the same name but  different parameters This allows the method to behave differently based on the arguments passed to it. but python does not allowed method over loading\n",
        "\n",
        "\n",
        "\n"
      ],
      "metadata": {
        "id": "AVQGCxF4Y0Au"
      }
    },
    {
      "cell_type": "markdown",
      "source": [
        "13 What is method overriding in OOP\n",
        "\n",
        "\n",
        "->if in child class has no constructors then automatically it triggers the parent constructor and initialized values otherwise it triggers itself but if both are have constructor then child class executed first and through super keyword we can initialized parent class as well"
      ],
      "metadata": {
        "id": "cFIIJlCbY0Fg"
      }
    },
    {
      "cell_type": "markdown",
      "source": [
        "14 Why is polymorphism important in OOP\n",
        "\n",
        "--> - Code Reusability: You can write  methods that work on objects of different classes without changing the code.\n",
        "- Extensibility: You can introduce new classes without altering existing code. Just override existing methods\n",
        "- Flexibility Through Interfaces: One function can handle multiple types of objects as long as they follow the expected interface.\n",
        "Abstractions: You focus on what an object can do, not how it does it—like using .draw() on anything from a Circle to a Triangle."
      ],
      "metadata": {
        "id": "Yw4JJr8yY0Ix"
      }
    },
    {
      "cell_type": "markdown",
      "source": [
        "15 What is an abstract class in Python\n",
        "\n",
        "->An abstract class is a class that cannot be instantiated  objects directly . It's designed to be a blueprint for other classes. Abstract classes often contain one or more abstract methods, which are methods declared in the abstract class but have no implementation. Subclasses that inherit from an abstract class must provide implementations for all of its abstract methods; otherwise, they will also be considered abstract and cannot be instantiated.\n",
        "\n",
        "n Python, abstract classes are implemented using the abc module .You inherit from ABC and use the @abstractmethod decorator to mark methods as abstract."
      ],
      "metadata": {
        "id": "a2h-ejPEY0MT"
      }
    },
    {
      "cell_type": "markdown",
      "source": [
        "16 What are the advantages of OOP\n",
        "- Clear structure: OOP makes your code look more like a real-world system action\n",
        "-Team-friendly: Different people can work on different parts without messing things up for others\n",
        "-Protects data: You can lock some parts of your code so they don’t get messed with accidentally.\n",
        "- Reusability: Write once, use again. You don’t have to rewrite the same logic every time just reuse the class!\n",
        "\n",
        "\n",
        "\n"
      ],
      "metadata": {
        "id": "Awc_LHewY0QM"
      }
    },
    {
      "cell_type": "markdown",
      "source": [
        "17 What is the difference between a class variable and an instance variable\n",
        "\n",
        "->class variable is an variable declare  inside the class the value of its is fixed it is shared by all object\n",
        "\n",
        "-instance variable its value is different for different object"
      ],
      "metadata": {
        "id": "fzhs-rC9Y0SW"
      }
    },
    {
      "cell_type": "markdown",
      "source": [
        "18 What is multiple inheritance in python\n",
        "\n",
        "-->when one class has an characteristics of multiple parent classes it's called multiple inheritances This means a single child class can combine the characteristics of multiple base classes."
      ],
      "metadata": {
        "id": "TOHZWRKB6090"
      }
    },
    {
      "cell_type": "markdown",
      "source": [
        "19 Explain the purpose of ‘’__str__’ and ‘__repr__’ ‘ methods in Python\n",
        "\n",
        "->these are dunder method(double underscore) this says that how is object is represented as a string\n",
        "- __str___(self) this method is use when we can show how our object show like\n",
        "- __repr__ intended to produce an unambiguous string representation of the object,- Used primarily for debugging and logging.\n",
        "\n"
      ],
      "metadata": {
        "id": "ZR5N886J61FJ"
      }
    },
    {
      "cell_type": "markdown",
      "source": [
        "20 What is the significance of the ‘super()’ function in Python\n",
        "\n",
        "-->when the there is an constructor in child class as well as in parent class and because of operator overloading the value in the chlid constructor is initiated but in parent class haven't so through super keyword we can access the attributes in parent class as well\n",
        "\n",
        "-Calling Parent Constructor __init__ As you noted, when a child class has its own __init__ method, it overrides the parent's __init__ To ensure the parent's attributes are also initialized, you use super().__init__(...) within the child's __init__. This is crucial for setting up the inherited parts of the object.\n",
        "\n",
        "Calling Other Parent Methods: super() isn't just for constructors. You can use it to call any method of the parent class that has been overridden in the child class. This allows you to extend or modify the parent's behavior in the child class while still being able to access the original parent implementation."
      ],
      "metadata": {
        "id": "UT5HrEsH61IP"
      }
    },
    {
      "cell_type": "markdown",
      "source": [
        "21 What is the significance of the __del__ method in Python\n",
        "\n",
        "-->The __del__ method in Python acts like a destructor — it's automatically called when an object is about to be deleted from memory, usually when it's no longer in use.such as closing files or releasing resources before the object vanishes. While Python’s garbage collector generally handles cleanup well, __del__ can be useful when you need to perform specific final actions. However, it's not always reliable in cases with complex references or external dependencies, so it's good practice to manage resources with context managers or manual control instead. Think of __del__ as a polite “last call” for your object"
      ],
      "metadata": {
        "id": "h7B2FoBj61LG"
      }
    },
    {
      "cell_type": "markdown",
      "source": [
        "22  What is the difference between @staticmethod and @classmethod in\n",
        "\n",
        "-->\t@staticmethod\n",
        "\n",
        "First Argument behaves like a regular function\n",
        "\n",
        "Access to Data\tCannot access instance or class data directly\n",
        "\n",
        "Use Case\tUtility functions related to the class\n",
        "\n",
        "How to Call\tCan be called using ClassName.method() or instance.method()\n",
        "\n",
        "@classmethod\n",
        "\n",
        "The class object (cls)\n",
        "\n",
        "Can access and modify class state (class variables)\n",
        "\n",
        "Factory methods, alternative constructors, methods operating on class\n",
        "\n",
        "Can be called using ClassName.method() or instance.method()\n"
      ],
      "metadata": {
        "id": "36-5jSal61OC"
      }
    },
    {
      "cell_type": "markdown",
      "source": [
        "24 What is method chaining in Python OOP\n",
        "\n",
        "-->Method chaining is a programming technique where you call multiple methods on an object in a single expression. To achieve this, each method must return the object itself after performing its operation. This allows you to \"chain\" method calls together, making the code more concise and sometimes more readable."
      ],
      "metadata": {
        "id": "7sKi3Rm061U-"
      }
    },
    {
      "cell_type": "markdown",
      "source": [
        "25 What is the purpose of the __call__ method in Python\n",
        "\n",
        "-->The __call__ method is another special \"dunder\" method. If a class defines this method, its instances (objects) can be treated as functions. This means you can \"call\" the object using parentheses () just like you would call a function\n",
        "\n",
        "-This is useful when you want an object to behave like a function, perhaps to maintain some state between calls or to provide a function-like interface to an object's functionality."
      ],
      "metadata": {
        "id": "JZerLOzW61ZA"
      }
    },
    {
      "cell_type": "code",
      "source": [
        "# 1. Create a parent class Animal with a method speak() that prints a generic message. Create a child class Dog\n",
        " #that overrides the speak() method to print \"Bark!\".\n",
        "\n",
        "class Animal:\n",
        "\n",
        "    def speak(self):\n",
        "        print(\"this is animal class\")\n",
        "\n",
        "class Dog(Animal):\n",
        "\n",
        "    def speak(self):\n",
        "        print(\"Bark!\")\n",
        "\n",
        "obj=Dog()\n",
        "obj.speak()\n",
        "\n"
      ],
      "metadata": {
        "colab": {
          "base_uri": "https://localhost:8080/"
        },
        "id": "SVn-yfHKDFI5",
        "outputId": "b53e123f-c183-4fa3-9eb6-2c69a260deb8"
      },
      "execution_count": null,
      "outputs": [
        {
          "output_type": "stream",
          "name": "stdout",
          "text": [
            "Bark!\n"
          ]
        }
      ]
    },
    {
      "cell_type": "code",
      "source": [
        "# 2. Write a program to create an abstract class Shape with a method area(). Derive classes Circle and Rectangle\n",
        "# from it and implement the area() method in both.\n",
        "\n",
        "from abc import ABC, abstractmethod\n",
        "\n",
        "class Shape(ABC):\n",
        "\n",
        "    @abstractmethod\n",
        "    def area(self):\n",
        "\n",
        "        pass\n",
        "\n",
        "class Circle(Shape):\n",
        "    def __init__(self, radius):\n",
        "        self.radius = radius\n",
        "\n",
        "\n",
        "    def area(self):\n",
        "        return 3.14 * self.radius * self.radius\n",
        "\n",
        "class Rectangle(Shape):\n",
        "    def __init__(self, length, width):\n",
        "        self.length = length\n",
        "        self.width = width\n",
        "\n",
        "    def area(self):\n",
        "        return self.length * self.width\n",
        "\n",
        "\n",
        "circle = Circle(5)\n",
        "print(f\"Circle area: {circle.area()}\")\n",
        "\n",
        "rectangle = Rectangle(4, 6)\n",
        "print(f\"Rectangle area: {rectangle.area()}\")\n",
        "\n"
      ],
      "metadata": {
        "id": "hiJZTHJjDFMO",
        "colab": {
          "base_uri": "https://localhost:8080/"
        },
        "outputId": "ff2535a4-5bd4-4802-96f7-48d6efdb7212"
      },
      "execution_count": 19,
      "outputs": [
        {
          "output_type": "stream",
          "name": "stdout",
          "text": [
            "Circle area: 78.5\n",
            "Rectangle area: 24\n"
          ]
        }
      ]
    },
    {
      "cell_type": "code",
      "source": [
        " # 3. Implement a multi-level inheritance scenario where a class Vehicle has an attribute type. Derive a class Car\n",
        " # and further derive a class ElectricCar that adds a battery attribute.\n",
        "\n",
        "class Vehicle:\n",
        "  def __init__(self, type):\n",
        "    self.type = type\n",
        "\n",
        "class Car(Vehicle):\n",
        "  def __init__(self, type, model):\n",
        "    super().__init__(type)\n",
        "    self.model = model\n",
        "\n",
        "\n",
        "class Electriccar(Car):\n",
        "  def __init__(self, type, model, battery):\n",
        "    super().__init__(type, model)\n",
        "    self.battery = battery\n",
        "\n",
        "\n",
        "c1=Electriccar(\"car\",\"suv\",\"40\")\n",
        "print(f\"Vehicle type: {c1.type}\")\n",
        "print(f\"Car model: {c1.model}\")\n",
        "print(f\"Battery capacity: {c1.battery}\")"
      ],
      "metadata": {
        "id": "pmyiEx5FDFPd",
        "colab": {
          "base_uri": "https://localhost:8080/"
        },
        "outputId": "1b6a7272-f208-4a2e-b900-20c29178ba7c"
      },
      "execution_count": 17,
      "outputs": [
        {
          "output_type": "stream",
          "name": "stdout",
          "text": [
            "Vehicle type: car\n",
            "Car model: suv\n",
            "Battery capacity: 40\n"
          ]
        }
      ]
    },
    {
      "cell_type": "code",
      "source": [
        "# 4. Demonstrate polymorphism by creating a base class Bird with a method fly(). Create two derived classes\n",
        " # Sparrow and Penguin that override the fly() method.\n",
        "\n",
        "class Bird:\n",
        "  def fly(self):\n",
        "    print(\"a bird can fly\")\n",
        "\n",
        "\n",
        "class Sparrow(Bird):\n",
        "  def fly(self):\n",
        "    print(\"sparrow can fly\")\n",
        "\n",
        "\n",
        "class Penguin(Bird):\n",
        "  def fly(self):\n",
        "    print(\"penguin can not fly\")\n",
        "\n",
        "\n",
        "p1=Sparrow()\n",
        "p1.fly()\n",
        "\n",
        "p2=Penguin()\n",
        "p2.fly()"
      ],
      "metadata": {
        "id": "od1YMyOKDFSH",
        "colab": {
          "base_uri": "https://localhost:8080/"
        },
        "outputId": "468fc4c6-2c31-4c08-828d-3d2ec191d000"
      },
      "execution_count": 3,
      "outputs": [
        {
          "output_type": "stream",
          "name": "stdout",
          "text": [
            "sparrow can fly\n",
            "penguin can not fly\n"
          ]
        }
      ]
    },
    {
      "cell_type": "code",
      "source": [
        "# 5. Write a program to demonstrate encapsulation by creating a class BankAccount with private attributes\n",
        " # balance and methods to deposit, withdraw, and check balance.\n",
        "\n",
        "class BankAccount:\n",
        "\n",
        "  __balance=0\n",
        "  def __init__(self,balance):\n",
        "    self.__balance=balance\n",
        "\n",
        "  def get_balance(self):\n",
        "    return self.__balance\n",
        "\n",
        "  def deposite(self,amount):\n",
        "    self.__balance+=amount\n",
        "\n",
        "  def withdrown(self,amount):\n",
        "    if amount<=self.__balance:\n",
        "      self.__balance=self.__balance-amount\n",
        "    else:\n",
        "      print(\"inefficient balance\")\n",
        "\n",
        "  def check_balance (self):\n",
        "    return self.__balance\n",
        "\n",
        "\n",
        "p1=BankAccount(10000)\n",
        "p1.deposite(5000)\n",
        "p1.withdrown(2000)\n",
        "print(p1.check_balance())\n",
        "\n",
        "\n",
        "\n",
        "\n",
        "\n",
        "\n",
        "\n",
        "\n",
        ""
      ],
      "metadata": {
        "id": "lOszFqtHDFXI",
        "colab": {
          "base_uri": "https://localhost:8080/"
        },
        "outputId": "ae77ccde-045d-4b0b-c8b5-abb6dcd46bb4"
      },
      "execution_count": 7,
      "outputs": [
        {
          "output_type": "stream",
          "name": "stdout",
          "text": [
            "13000\n"
          ]
        }
      ]
    },
    {
      "cell_type": "code",
      "source": [
        " # 6. Demonstrate runtime polymorphism using a method play() in a base class Instrument. Derive classes Guitar\n",
        " # and Piano that implement their own version of play().\n",
        "\n",
        "class Instrument:\n",
        "\n",
        "  def play(self):\n",
        "    print(\"in the class instrument \")\n",
        "\n",
        "class  Guitar(Instrument):\n",
        "\n",
        "  def play(self):\n",
        "    print(\"in the class guiter\")\n",
        "\n",
        "class Piano(Instrument):\n",
        "\n",
        "  def play(self):\n",
        "    print(\"in the class piano\")\n",
        "\n",
        "p1=Guitar()\n",
        "p1.play()\n",
        "\n",
        "p2=Piano()\n",
        "p2.play()"
      ],
      "metadata": {
        "id": "Whd3mllfDFZ_",
        "colab": {
          "base_uri": "https://localhost:8080/"
        },
        "outputId": "d773afa2-1e33-4d57-b68b-dbd275ff04e0"
      },
      "execution_count": 10,
      "outputs": [
        {
          "output_type": "stream",
          "name": "stdout",
          "text": [
            "in the class guiter\n",
            "in the class piano\n"
          ]
        }
      ]
    },
    {
      "cell_type": "code",
      "source": [
        "# 7. Create a class MathOperations with a class method add_numbers() to add two numbers and a static\n",
        " # method subtract_numbers() to subtract two numbers.\n",
        "\n",
        "class MathOperations:\n",
        "  def __init__(self,a,b):\n",
        "    self.a=a\n",
        "    self.b=b\n",
        "\n",
        "  @classmethod\n",
        "  def add_numbers(self,a,b):\n",
        "    print(a+b)\n",
        "\n",
        "  @staticmethod\n",
        "  def subtract_numbers(a,b):\n",
        "    print(a-b)\n",
        "\n",
        "p1=MathOperations(10,5)\n",
        "p1.add_numbers(10,5)\n",
        "p1.subtract_numbers(10,5)"
      ],
      "metadata": {
        "id": "THwNvlswDFdB",
        "colab": {
          "base_uri": "https://localhost:8080/"
        },
        "outputId": "c1415209-6217-437b-c786-2ab974e844b7"
      },
      "execution_count": 15,
      "outputs": [
        {
          "output_type": "stream",
          "name": "stdout",
          "text": [
            "15\n",
            "5\n"
          ]
        }
      ]
    },
    {
      "cell_type": "code",
      "source": [
        "# 8. Implement a class Person with a class method to count the total number of persons create\n",
        "\n",
        "class person:\n",
        "  count=0\n",
        "  def __init__(self,name):\n",
        "    self.name=name\n",
        "    person.count+=1\n",
        "\n",
        "  def total_person(self):\n",
        "    return person.count\n",
        "\n",
        "\n",
        "p1=person(\"sumit\")\n",
        "p2=person(\"ritu\")\n",
        "p3=person(\"mohit\")\n",
        "print(p1.total_person())\n",
        "\n",
        "\n",
        "\n"
      ],
      "metadata": {
        "id": "VYzwk5KkDFf6",
        "colab": {
          "base_uri": "https://localhost:8080/"
        },
        "outputId": "60987422-c9b6-47a9-d4c7-dc77c8b3d2b9"
      },
      "execution_count": 17,
      "outputs": [
        {
          "output_type": "stream",
          "name": "stdout",
          "text": [
            "3\n"
          ]
        }
      ]
    },
    {
      "cell_type": "code",
      "source": [
        "# 9. Write a class Fraction with attributes numerator and denominator. Override the str method to display the\n",
        " # fraction as \"numerator/denominator\".\n",
        "\n",
        "class Fraction:\n",
        "  def __init__(self,nu,de):\n",
        "    self.nu=nu\n",
        "    self.de=de\n",
        "\n",
        "  def __str__(self):\n",
        "    return f\"{self.nu}/{self.de}\"\n",
        "\n",
        "p1=Fraction(10,5)\n",
        "p2=Fraction(3,4)\n",
        "print(p1)\n",
        "print(p2)\n"
      ],
      "metadata": {
        "id": "mpQV69XkDFib",
        "colab": {
          "base_uri": "https://localhost:8080/"
        },
        "outputId": "c1c09cd7-110a-4d40-d6f9-ba05fd34fc42"
      },
      "execution_count": 20,
      "outputs": [
        {
          "output_type": "stream",
          "name": "stdout",
          "text": [
            "10/5\n",
            "3/4\n"
          ]
        }
      ]
    },
    {
      "cell_type": "code",
      "source": [
        " #10. Demonstrate operator overloading by creating a class Vector and overriding the add method to add two\n",
        "# vectors.\n",
        "\n",
        "class Vector:\n",
        "  def __init__(self,x,y):\n",
        "    self.x=x\n",
        "    self.y=y\n",
        "\n",
        "  def __str__(self):\n",
        "    return f\"({self.x},{self.y})\"\n",
        "\n",
        "  def __add__(self,other):\n",
        "    new_x=self.x+other.x\n",
        "    new_y=self.y+other.y\n",
        "    return Vector(new_x,new_y)\n",
        "\n",
        "v1=Vector(1,2)\n",
        "print(v1)\n",
        "v2=Vector(3,4)\n",
        "print(v2)\n",
        "v3=v1+v2\n",
        "print(v3)\n",
        "\n"
      ],
      "metadata": {
        "id": "d7rny27qDFlL",
        "colab": {
          "base_uri": "https://localhost:8080/"
        },
        "outputId": "4781f10b-1572-485c-cbdc-2ad02aab9442"
      },
      "execution_count": 25,
      "outputs": [
        {
          "output_type": "stream",
          "name": "stdout",
          "text": [
            "(1,2)\n",
            "(3,4)\n",
            "(4,6)\n"
          ]
        }
      ]
    },
    {
      "cell_type": "code",
      "source": [
        " # 11. Create a class Person with attributes name and age. Add a method greet() that prints \"Hello, my name is\n",
        "# {name} and I am {age} years old.\"\n",
        "\n",
        "\n",
        "class person:\n",
        "\n",
        "  def __init__(self,name,age):\n",
        "    self.name=name\n",
        "    self.age=age\n",
        "\n",
        "  def greet(self):\n",
        "    print(f\"hello,my name is {self.name} and i am {self.age} years old\")\n",
        "\n",
        "p1=person(\"mohit\",20)\n",
        "p1.greet()\n",
        "p2=person(\"riya\",21)\n",
        "p2.greet()"
      ],
      "metadata": {
        "colab": {
          "base_uri": "https://localhost:8080/"
        },
        "id": "JAOtmtILGbkX",
        "outputId": "72381cfd-44e8-4f6b-c974-001861dcf7b2"
      },
      "execution_count": 27,
      "outputs": [
        {
          "output_type": "stream",
          "name": "stdout",
          "text": [
            "hello,my name is mohit and i am 20 years old\n",
            "hello,my name is riya and i am 21 years old\n"
          ]
        }
      ]
    },
    {
      "cell_type": "code",
      "source": [
        " #12. Implement a class Student with attributes name and grades. Create a method average_grade() to compute\n",
        "# the average of the grades.\n",
        "\n",
        "\n",
        "\n",
        "class student:\n",
        "\n",
        "   def __init__(self,name):\n",
        "    self.name=name\n",
        "    self.grades=[]\n",
        "\n",
        "   def add_grade(self,grade):\n",
        "    self.grades.append(grade)\n",
        "\n",
        "   def average_grade(self):\n",
        "    if not self.grades:\n",
        "      return 0\n",
        "    return sum(self.grades)/len(self.grades)\n",
        "\n",
        "\n",
        "s1=student(\"mohit\")\n",
        "s1.add_grade(20)\n",
        "s1.add_grade(20)\n",
        "s1.add_grade(20)\n",
        "print(s1.name)\n",
        "print(s1.average_grade())\n",
        "\n",
        "\n",
        "\n"
      ],
      "metadata": {
        "colab": {
          "base_uri": "https://localhost:8080/"
        },
        "id": "6liXFlD9GbiW",
        "outputId": "d563299a-aa1b-4c91-ccee-d651563ea529"
      },
      "execution_count": 29,
      "outputs": [
        {
          "output_type": "stream",
          "name": "stdout",
          "text": [
            "mohit\n",
            "20.0\n"
          ]
        }
      ]
    },
    {
      "cell_type": "code",
      "source": [
        "# 13. Create a class Rectangle with methods set_dimensions() to set the dimensions and area() to calculate the\n",
        "# area\n",
        "\n",
        "\n",
        "class Rectangle:\n",
        "\n",
        "  def set_dimensions(self):\n",
        "    x_str = input(\"enter x coordinate: \")\n",
        "    y_str = input(\"enter y coordinate: \")\n",
        "    self.x = int(x_str)\n",
        "    self.y = int(y_str)\n",
        "    print(f\"(x={self.x},y={self.y})\")\n",
        "\n",
        "\n",
        "  def area(self):\n",
        "    print(\"the area is = \",self.x * self.y)\n",
        "\n",
        "r1=Rectangle()\n",
        "r1.set_dimensions()\n",
        "r1.area()"
      ],
      "metadata": {
        "colab": {
          "base_uri": "https://localhost:8080/"
        },
        "id": "y5RYE8z5Gbgb",
        "outputId": "faa34f1e-c239-479c-d44b-8beb5de865d7"
      },
      "execution_count": 33,
      "outputs": [
        {
          "output_type": "stream",
          "name": "stdout",
          "text": [
            "enter x coordinate: 4\n",
            "enter y coordinate: 3\n",
            "(x=4, y=3)\n",
            "the area is =  12\n"
          ]
        }
      ]
    },
    {
      "cell_type": "code",
      "source": [
        "# 14. Create a class Employee with a method calculate_salary() that computes the salary based on hours worked\n",
        "# and hourly rate. Create a derived class Manager that adds a bonus to the salary\n",
        "\n",
        "\n",
        "class Employee():\n",
        "   em_count=0\n",
        "   def __init__(self,hour_work,hour_rate):\n",
        "    self.hour_work=hour_work\n",
        "    self.hour_rate=hour_rate\n",
        "    Employee.em_count+=1\n",
        "\n",
        "   def calculate_salary(self):\n",
        "    return self.hour_work*self.hour_rate\n",
        "\n",
        "   @staticmethod\n",
        "   def total_employee():\n",
        "    return Employee.em_count\n",
        "\n",
        "\n",
        "class Manager():\n",
        "  def __init__(self, employee_details, bonus):\n",
        "    self.employee_details = employee_details\n",
        "    self.bonus=bonus\n",
        "\n",
        "\n",
        "  def calculate_salary(self):\n",
        "   return self.employee_details.calculate_salary() + self.bonus\n",
        "\n",
        "\n",
        "\n",
        "e1= Employee(40, 100)\n",
        "m1= Manager(e1, 10000)\n",
        "print(m1.calculate_salary())\n",
        "e1=Employee(40,100)\n",
        "print(e1.calculate_salary())\n",
        "e2=Employee(60,100)\n",
        "print(e2.calculate_salary())\n",
        "print(Employee.total_employee())"
      ],
      "metadata": {
        "colab": {
          "base_uri": "https://localhost:8080/"
        },
        "id": "6Cg5nMCpGbeX",
        "outputId": "241f1381-f5a2-45cb-c051-4230399e3da9"
      },
      "execution_count": 37,
      "outputs": [
        {
          "output_type": "stream",
          "name": "stdout",
          "text": [
            "14000\n",
            "4000\n",
            "6000\n",
            "3\n"
          ]
        }
      ]
    },
    {
      "cell_type": "code",
      "source": [
        "# 15. Create a class Product with attributes name, price, and quantity. Implement a method total_price() that\n",
        "# calculates the total price of the product.\n",
        "\n",
        "\n",
        "class product:\n",
        "  def __init__(self,name,price,quantity):\n",
        "    self.name=name\n",
        "    self.price=price\n",
        "    self.quantity=quantity\n",
        "\n",
        "  def total_price(self):\n",
        "    return self.price*self.quantity\n",
        "\n",
        "\n",
        "p1=product(\"moblie\",20000,2)\n",
        "p2=product(\"laptop\",50000,3)\n",
        "print(p1.total_price())\n",
        "print(p2.total.price())"
      ],
      "metadata": {
        "colab": {
          "base_uri": "https://localhost:8080/"
        },
        "id": "rm7WyMPBGbaV",
        "outputId": "90504be8-4911-4caf-a056-ea66e813ef6d"
      },
      "execution_count": 5,
      "outputs": [
        {
          "output_type": "stream",
          "name": "stdout",
          "text": [
            "40000\n"
          ]
        }
      ]
    },
    {
      "cell_type": "code",
      "source": [
        "# 17. Create a class Book with attributes title, author, and year_published. Add a method get_book_info() that\n",
        "# returns a formatted string with the book's details.\n",
        "\n",
        "\n",
        "\n",
        "class Book:\n",
        "    def __init__(self, title, author, year_published):\n",
        "        self.title = title\n",
        "        self.author = author\n",
        "        self.year_published = year_published\n",
        "\n",
        "    def get_book_info(self):\n",
        "        return f\"'{self.title}' by {self.author} ({self.year_published})\"\n",
        "\n",
        "my_book = Book(\"harry potter\",\"J.K. Rowling\", 1990)\n",
        "print(my_book.get_book_info())\n",
        "\n",
        "\n",
        "\n"
      ],
      "metadata": {
        "colab": {
          "base_uri": "https://localhost:8080/"
        },
        "id": "XnHQSfDyg8aG",
        "outputId": "ae8f08e9-b044-4e51-ec16-b34d024e9623"
      },
      "execution_count": 9,
      "outputs": [
        {
          "output_type": "stream",
          "name": "stdout",
          "text": [
            "'harry potter' by J.K. Rowling (1990)\n"
          ]
        }
      ]
    },
    {
      "cell_type": "code",
      "source": [
        "# 18. Create a class House with attributes address and price. Create a derived class Mansion that adds an\n",
        "# attribute number_of_rooms.\n",
        "\n",
        "\n",
        "class House:\n",
        "    def __init__(self, address, price):\n",
        "        self.address = address\n",
        "        self.price = price\n",
        "\n",
        "class Mansion(House):\n",
        "    def __init__(self, address, price, number_of_rooms):\n",
        "        super().__init__(address, price)\n",
        "        self.number_of_rooms = number_of_rooms\n",
        "\n",
        "m1 = Mansion(\"marethon road\", 1000000, 4)\n",
        "\n",
        "\n",
        "print(f\"Address: {m1.address}\")\n",
        "print(f\"Price: {m1.price}\")\n",
        "print(f\"Number of rooms: {m1.number_of_rooms}\")\n",
        "\n"
      ],
      "metadata": {
        "colab": {
          "base_uri": "https://localhost:8080/"
        },
        "id": "eVni4cVSg8Xm",
        "outputId": "2284a6cb-c5bf-437e-eddb-641da9242776"
      },
      "execution_count": 11,
      "outputs": [
        {
          "output_type": "stream",
          "name": "stdout",
          "text": [
            "Address: marethon road\n",
            "Price: 1000000\n",
            "Number of rooms: 4\n"
          ]
        }
      ]
    },
    {
      "cell_type": "code",
      "source": [
        "  # 16. Create a class Animal with an abstract method sound(). Create two derived classes Cow and Sheep that\n",
        "# implement the sound() method.\n",
        "\n",
        "from abc import ABC, abstractmethod\n",
        "\n",
        "class Animal(ABC):\n",
        "    @abstractmethod\n",
        "    def sound(self):\n",
        "        pass\n",
        "\n",
        "class Cow(Animal):\n",
        "    def sound(self):\n",
        "        print(\"Moo!\")\n",
        "\n",
        "class Sheep(Animal):\n",
        "    def sound(self):\n",
        "        print(\"Baa!\")\n",
        "a=Cow()\n",
        "a.sound()\n",
        "b=Sheep()\n",
        "b.sound()"
      ],
      "metadata": {
        "colab": {
          "base_uri": "https://localhost:8080/"
        },
        "id": "S2XKVCClGbVq",
        "outputId": "b9377b7a-5b42-42b9-e26b-b74bdbff6894"
      },
      "execution_count": 25,
      "outputs": [
        {
          "output_type": "stream",
          "name": "stdout",
          "text": [
            "Moo!\n",
            "Baa!\n"
          ]
        }
      ]
    }
  ]
}